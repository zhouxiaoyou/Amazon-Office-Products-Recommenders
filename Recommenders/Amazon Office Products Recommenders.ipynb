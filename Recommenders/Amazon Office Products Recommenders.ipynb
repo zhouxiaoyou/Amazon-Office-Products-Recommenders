{
 "cells": [
  {
   "cell_type": "code",
   "execution_count": 1,
   "metadata": {
    "collapsed": false,
    "deletable": true,
    "editable": true
   },
   "outputs": [],
   "source": [
    "import pandas as pd\n",
    "import numpy as np\n",
    "Office = pd.read_pickle(\"office_products.pickle\")\n",
    "Office_reviews = pd.read_pickle(\"office_reviews.pickle\")"
   ]
  },
  {
   "cell_type": "markdown",
   "metadata": {
    "deletable": true,
    "editable": true
   },
   "source": [
    "# 1 AMAZON ITEM-TO-ITEM SIMILARITY RECOMMENENDER"
   ]
  },
  {
   "cell_type": "code",
   "execution_count": 2,
   "metadata": {
    "collapsed": false,
    "deletable": true,
    "editable": true
   },
   "outputs": [],
   "source": [
    "# Extract the last category in the “Office.categories” as a new column “Categories”\n",
    "Office[\"categories\"] = [[i][0][0][-1] for i in Office.categories]\n",
    "# drop useless columns.\n",
    "Office = Office.dropna(subset = [\"title\",\"description\"]).reset_index()[[1,2,3,4,5,6,9]]\n",
    "\n",
    "# Merge \"Office_reviews\" with \"Office\" by \"asin\"\n",
    "Office_reviews = Office_reviews.merge(Office, left_on = \"asin\", right_on='asin')\n",
    "Office_reviews = Office_reviews[[0,2,5]]"
   ]
  },
  {
   "cell_type": "markdown",
   "metadata": {
    "deletable": true,
    "editable": true
   },
   "source": [
    "## 1.1 Build similar items table\n",
    "### 1.1.1 Retrive purchase histories for all customers, then calculate the purchase amount for each user"
   ]
  },
  {
   "cell_type": "code",
   "execution_count": 3,
   "metadata": {
    "collapsed": false,
    "deletable": true,
    "editable": true
   },
   "outputs": [
    {
     "data": {
      "text/html": [
       "<div>\n",
       "<table border=\"1\" class=\"dataframe\">\n",
       "  <thead>\n",
       "    <tr style=\"text-align: right;\">\n",
       "      <th></th>\n",
       "      <th>user</th>\n",
       "      <th>asin</th>\n",
       "      <th>counts</th>\n",
       "    </tr>\n",
       "  </thead>\n",
       "  <tbody>\n",
       "    <tr>\n",
       "      <th>0</th>\n",
       "      <td>A3OXHLG6DIBRW8</td>\n",
       "      <td>[B00004Z6NA, B000050FZP, B00005C3YY, B00005C55...</td>\n",
       "      <td>93</td>\n",
       "    </tr>\n",
       "    <tr>\n",
       "      <th>1</th>\n",
       "      <td>A22I55P15NSAOX</td>\n",
       "      <td>[B00004Z64U, B00004Z69W, B00006B7UW, B00006B8G...</td>\n",
       "      <td>80</td>\n",
       "    </tr>\n",
       "    <tr>\n",
       "      <th>2</th>\n",
       "      <td>A1Z16630QMH8Q6</td>\n",
       "      <td>[B00004Z5QO, B00004Z5SM, B00006B8G0, B00006IC3...</td>\n",
       "      <td>76</td>\n",
       "    </tr>\n",
       "    <tr>\n",
       "      <th>3</th>\n",
       "      <td>A1ODOGXEYECQQ8</td>\n",
       "      <td>[B00005UKAX, B00006ICF7, B00006IDV6, B00006IF7...</td>\n",
       "      <td>75</td>\n",
       "    </tr>\n",
       "    <tr>\n",
       "      <th>4</th>\n",
       "      <td>A22CW0ZHY3NJH8</td>\n",
       "      <td>[B00004VVIX, B00004YV1W, B00004Z5QO, B00006IC7...</td>\n",
       "      <td>73</td>\n",
       "    </tr>\n",
       "  </tbody>\n",
       "</table>\n",
       "</div>"
      ],
      "text/plain": [
       "             user                                               asin  counts\n",
       "0  A3OXHLG6DIBRW8  [B00004Z6NA, B000050FZP, B00005C3YY, B00005C55...      93\n",
       "1  A22I55P15NSAOX  [B00004Z64U, B00004Z69W, B00006B7UW, B00006B8G...      80\n",
       "2  A1Z16630QMH8Q6  [B00004Z5QO, B00004Z5SM, B00006B8G0, B00006IC3...      76\n",
       "3  A1ODOGXEYECQQ8  [B00005UKAX, B00006ICF7, B00006IDV6, B00006IF7...      75\n",
       "4  A22CW0ZHY3NJH8  [B00004VVIX, B00004YV1W, B00004Z5QO, B00006IC7...      73"
      ]
     },
     "execution_count": 3,
     "metadata": {},
     "output_type": "execute_result"
    }
   ],
   "source": [
    "# Only keep the \"asin\" and \"reviewerID\"\n",
    "U_to_I = Office_reviews[[0,2]]\n",
    "# melt the dataframe and set the varibles as \"reviewerID\"\n",
    "U_to_I = pd.melt(U_to_I, id_vars=['reviewerID'], value_vars=['asin'])\n",
    "# Group by \"reviewerID\", find all the products he or she have reviewed, and append them to a list.\n",
    "U_to_I = U_to_I.groupby([\"reviewerID\"])[\"value\"].apply(lambda x: \"[%s]\" % ','.join(x))\n",
    "\n",
    "# Turn the result into a data frame\n",
    "user_item = pd.Series(U_to_I, name='asin')\n",
    "user_item.index.name = 'user'\n",
    "user_item = user_item.reset_index()\n",
    "user_item[\"asin\"] = user_item[\"asin\"].str.extract(\"\\[(.*)\\]\",expand=False)\n",
    "user_item[\"asin\"] = user_item[\"asin\"].str.split(\",\")\n",
    "# Use reviewed counts as purchase amount.\n",
    "user_item[\"counts\"] = [len(i) for  i in user_item.asin]\n",
    "user_item = user_item.sort_values(by=\"counts\",ascending=False).reset_index()[[1,2,3]]\n",
    "user_item.head()"
   ]
  },
  {
   "cell_type": "markdown",
   "metadata": {
    "deletable": true,
    "editable": true
   },
   "source": [
    "### 1.1.2 Calculate the sales of each product"
   ]
  },
  {
   "cell_type": "code",
   "execution_count": 4,
   "metadata": {
    "collapsed": false,
    "deletable": true,
    "editable": true
   },
   "outputs": [
    {
     "data": {
      "text/html": [
       "<div>\n",
       "<table border=\"1\" class=\"dataframe\">\n",
       "  <thead>\n",
       "    <tr style=\"text-align: right;\">\n",
       "      <th></th>\n",
       "      <th>asin</th>\n",
       "      <th>user</th>\n",
       "      <th>sales</th>\n",
       "    </tr>\n",
       "  </thead>\n",
       "  <tbody>\n",
       "    <tr>\n",
       "      <th>0</th>\n",
       "      <td>B0010T3QT2</td>\n",
       "      <td>[A3A1OA237FOZFK,  A4QXTN3K865NR,  A1HRYC60VTMY...</td>\n",
       "      <td>311</td>\n",
       "    </tr>\n",
       "    <tr>\n",
       "      <th>1</th>\n",
       "      <td>B0039N7ELS</td>\n",
       "      <td>[A2E1EFNIZL2FVA,  A2X396SN5F0H0S,  A3EZEP0FX5B...</td>\n",
       "      <td>227</td>\n",
       "    </tr>\n",
       "    <tr>\n",
       "      <th>2</th>\n",
       "      <td>B0027CTFBO</td>\n",
       "      <td>[A3A1OA237FOZFK,  A2E1EFNIZL2FVA,  A2BB4DGBRVG...</td>\n",
       "      <td>205</td>\n",
       "    </tr>\n",
       "    <tr>\n",
       "      <th>3</th>\n",
       "      <td>B0039N3QFQ</td>\n",
       "      <td>[A2DYMDOAJURO5F,  A27HJBFDSTFVFG,  AUG0C084W05...</td>\n",
       "      <td>186</td>\n",
       "    </tr>\n",
       "    <tr>\n",
       "      <th>4</th>\n",
       "      <td>B000MFHX3U</td>\n",
       "      <td>[A231FGX8G2Q5EW,  A2OR4QUQSUMOW7,  A2VIX3WXF4H...</td>\n",
       "      <td>185</td>\n",
       "    </tr>\n",
       "  </tbody>\n",
       "</table>\n",
       "</div>"
      ],
      "text/plain": [
       "         asin                                               user  sales\n",
       "0  B0010T3QT2  [A3A1OA237FOZFK,  A4QXTN3K865NR,  A1HRYC60VTMY...    311\n",
       "1  B0039N7ELS  [A2E1EFNIZL2FVA,  A2X396SN5F0H0S,  A3EZEP0FX5B...    227\n",
       "2  B0027CTFBO  [A3A1OA237FOZFK,  A2E1EFNIZL2FVA,  A2BB4DGBRVG...    205\n",
       "3  B0039N3QFQ  [A2DYMDOAJURO5F,  A27HJBFDSTFVFG,  AUG0C084W05...    186\n",
       "4  B000MFHX3U  [A231FGX8G2Q5EW,  A2OR4QUQSUMOW7,  A2VIX3WXF4H...    185"
      ]
     },
     "execution_count": 4,
     "metadata": {},
     "output_type": "execute_result"
    }
   ],
   "source": [
    "# Count the sales of each product to get a \"item_user\" data frame.\n",
    "I_to_U = Office_reviews[[0,2]]\n",
    "I_to_U = pd.melt(I_to_U, id_vars=['asin'], value_vars=['reviewerID'])\n",
    "I_to_U = I_to_U.groupby([\"asin\"])[\"value\"].apply(lambda x: \"[%s]\" % ', '.join(x))\n",
    "\n",
    "item_user = pd.Series(I_to_U, name='user')\n",
    "item_user.index.name = 'asin'\n",
    "item_user = item_user.reset_index()\n",
    "item_user[\"user\"] = item_user.user.str.extract(\"\\[(.*)\\]\",expand=False)\n",
    "item_user[\"user\"] = item_user[\"user\"].str.split(\",\")\n",
    "item_user[\"sales\"] = [len(i) for  i in item_user.user]\n",
    "item_user = item_user.sort_values(by=\"sales\",ascending=False).reset_index()[[1,2,3]]\n",
    "item_user.head()"
   ]
  },
  {
   "cell_type": "markdown",
   "metadata": {
    "deletable": true,
    "editable": true
   },
   "source": [
    "### 1.1.3 For each (item to items) pair, count number of customers in common"
   ]
  },
  {
   "cell_type": "code",
   "execution_count": 5,
   "metadata": {
    "collapsed": false,
    "deletable": true,
    "editable": true
   },
   "outputs": [],
   "source": [
    "#Compare all the reviewers of a product with each product's reviewers, include itself, to find their common customers.\n",
    "common_user = []\n",
    "\n",
    "# for all the reviewers of each product,\n",
    "for p in item_user.user:\n",
    "    # for all the reviewers of each product,\n",
    "    for i in item_user.user:\n",
    "        # Find common reviewers.\n",
    "        intersect = list(set(p).intersection(i))\n",
    "        # Count common reviewers number.\n",
    "        count = len(intersect)\n",
    "        # Append the result to the list.\n",
    "        common_user.append(count)\n",
    "        \n",
    "# Save all results as an array.\n",
    "common_user = np.array(common_user)\n",
    "# Reshape the array with a same length and width of \"Office\".\n",
    "common_users = common_user.reshape(len(Office),-1)"
   ]
  },
  {
   "cell_type": "markdown",
   "metadata": {
    "deletable": true,
    "editable": true
   },
   "source": [
    "### 1.1.4 Compute commonality indexes"
   ]
  },
  {
   "cell_type": "code",
   "execution_count": 6,
   "metadata": {
    "collapsed": false,
    "deletable": true,
    "editable": true
   },
   "outputs": [
    {
     "data": {
      "text/plain": [
       "array([[ 1.        ,  0.21829052,  0.14257566, ...,  0.        ,\n",
       "         0.        ,  0.        ],\n",
       "       [ 0.21829052,  1.        ,  0.14370499, ...,  0.        ,\n",
       "         0.        ,  0.        ],\n",
       "       [ 0.14257566,  0.14370499,  1.        , ...,  0.        ,\n",
       "         0.        ,  0.        ],\n",
       "       ..., \n",
       "       [ 0.        ,  0.        ,  0.        , ...,  1.        ,\n",
       "         0.        ,  0.        ],\n",
       "       [ 0.        ,  0.        ,  0.        , ...,  0.        ,\n",
       "         1.        ,  0.        ],\n",
       "       [ 0.        ,  0.        ,  0.        , ...,  0.        ,\n",
       "         0.        ,  1.        ]])"
      ]
     },
     "execution_count": 6,
     "metadata": {},
     "output_type": "execute_result"
    }
   ],
   "source": [
    "# Build another data frame with same value of common, but index and columns' name are the sales counts of that product.\n",
    "common_index = pd.DataFrame(data = common_users,\n",
    "                            index = item_user[\"sales\"].values, \n",
    "                            columns = item_user[\"sales\"].values)\n",
    "# Count the commonality_indexes based on the formula.\n",
    "# Multiply the sales of each pair of products and save the results as a matrix.\n",
    "C_index = np.array([[i*j for j in common_index.columns] for i in common_index.index])\n",
    "# Divide the prescription of the products by common values\n",
    "C_index = common_users / np.sqrt(C_index)\n",
    "C_index"
   ]
  },
  {
   "cell_type": "code",
   "execution_count": 7,
   "metadata": {
    "collapsed": false,
    "deletable": true,
    "editable": true
   },
   "outputs": [
    {
     "data": {
      "text/html": [
       "<div>\n",
       "<table border=\"1\" class=\"dataframe\">\n",
       "  <thead>\n",
       "    <tr style=\"text-align: right;\">\n",
       "      <th></th>\n",
       "      <th>B0010T3QT2</th>\n",
       "      <th>B0039N7ELS</th>\n",
       "      <th>B0027CTFBO</th>\n",
       "      <th>B0039N3QFQ</th>\n",
       "      <th>B000MFHX3U</th>\n",
       "    </tr>\n",
       "  </thead>\n",
       "  <tbody>\n",
       "    <tr>\n",
       "      <th>B0010T3QT2</th>\n",
       "      <td>1.000000</td>\n",
       "      <td>0.218291</td>\n",
       "      <td>0.142576</td>\n",
       "      <td>0.257783</td>\n",
       "      <td>0.125071</td>\n",
       "    </tr>\n",
       "    <tr>\n",
       "      <th>B0039N7ELS</th>\n",
       "      <td>0.218291</td>\n",
       "      <td>1.000000</td>\n",
       "      <td>0.143705</td>\n",
       "      <td>0.160600</td>\n",
       "      <td>0.126875</td>\n",
       "    </tr>\n",
       "    <tr>\n",
       "      <th>B0027CTFBO</th>\n",
       "      <td>0.142576</td>\n",
       "      <td>0.143705</td>\n",
       "      <td>1.000000</td>\n",
       "      <td>0.107544</td>\n",
       "      <td>0.128374</td>\n",
       "    </tr>\n",
       "    <tr>\n",
       "      <th>B0039N3QFQ</th>\n",
       "      <td>0.257783</td>\n",
       "      <td>0.160600</td>\n",
       "      <td>0.107544</td>\n",
       "      <td>1.000000</td>\n",
       "      <td>0.086254</td>\n",
       "    </tr>\n",
       "    <tr>\n",
       "      <th>B000MFHX3U</th>\n",
       "      <td>0.125071</td>\n",
       "      <td>0.126875</td>\n",
       "      <td>0.128374</td>\n",
       "      <td>0.086254</td>\n",
       "      <td>1.000000</td>\n",
       "    </tr>\n",
       "  </tbody>\n",
       "</table>\n",
       "</div>"
      ],
      "text/plain": [
       "            B0010T3QT2  B0039N7ELS  B0027CTFBO  B0039N3QFQ  B000MFHX3U\n",
       "B0010T3QT2    1.000000    0.218291    0.142576    0.257783    0.125071\n",
       "B0039N7ELS    0.218291    1.000000    0.143705    0.160600    0.126875\n",
       "B0027CTFBO    0.142576    0.143705    1.000000    0.107544    0.128374\n",
       "B0039N3QFQ    0.257783    0.160600    0.107544    1.000000    0.086254\n",
       "B000MFHX3U    0.125071    0.126875    0.128374    0.086254    1.000000"
      ]
     },
     "execution_count": 7,
     "metadata": {},
     "output_type": "execute_result"
    }
   ],
   "source": [
    "# Build a data frame with \"a\" as the data and match the index and columns' names with their \"asin\".\n",
    "commonality_indexes = pd.DataFrame(data = C_index, \n",
    "                                   index = item_user[\"asin\"].values, \n",
    "                                   columns = item_user[\"asin\"].values)\n",
    "commonality_indexes.iloc[0:5,0:5]"
   ]
  },
  {
   "cell_type": "markdown",
   "metadata": {
    "deletable": true,
    "editable": true
   },
   "source": [
    "## 1.2 Identify popular items in each category"
   ]
  },
  {
   "cell_type": "code",
   "execution_count": 8,
   "metadata": {
    "collapsed": false,
    "deletable": true,
    "editable": true
   },
   "outputs": [
    {
     "data": {
      "text/html": [
       "<div>\n",
       "<table border=\"1\" class=\"dataframe\">\n",
       "  <thead>\n",
       "    <tr style=\"text-align: right;\">\n",
       "      <th></th>\n",
       "      <th>title</th>\n",
       "      <th>brand</th>\n",
       "      <th>price</th>\n",
       "      <th>sales</th>\n",
       "      <th>imUrl</th>\n",
       "      <th>categories</th>\n",
       "    </tr>\n",
       "    <tr>\n",
       "      <th>asin</th>\n",
       "      <th></th>\n",
       "      <th></th>\n",
       "      <th></th>\n",
       "      <th></th>\n",
       "      <th></th>\n",
       "      <th></th>\n",
       "    </tr>\n",
       "  </thead>\n",
       "  <tbody>\n",
       "    <tr>\n",
       "      <th>B0010T3QT2</th>\n",
       "      <td>Quality Park Reveal-N-Seal Envelope, #10, 4-1/...</td>\n",
       "      <td>Quality Park</td>\n",
       "      <td>7.90</td>\n",
       "      <td>311</td>\n",
       "      <td>http://ecx.images-amazon.com/images/I/41f9G1jL...</td>\n",
       "      <td>Envelopes</td>\n",
       "    </tr>\n",
       "    <tr>\n",
       "      <th>B0039N7ELS</th>\n",
       "      <td>Scotch Adhesive Dot Roller, 0.31 x 49 Feet (6055)</td>\n",
       "      <td>Unknown</td>\n",
       "      <td>6.19</td>\n",
       "      <td>227</td>\n",
       "      <td>http://ecx.images-amazon.com/images/I/41n5MKtP...</td>\n",
       "      <td>Mounting Tape</td>\n",
       "    </tr>\n",
       "    <tr>\n",
       "      <th>B0027CTFBO</th>\n",
       "      <td>Bankers Box SmoothMove Moving and Storage Boxe...</td>\n",
       "      <td>Fellowes</td>\n",
       "      <td>21.79</td>\n",
       "      <td>205</td>\n",
       "      <td>http://ecx.images-amazon.com/images/I/416ttilp...</td>\n",
       "      <td>Box Mailers</td>\n",
       "    </tr>\n",
       "    <tr>\n",
       "      <th>B0039N3QFQ</th>\n",
       "      <td>Scotch(R) Pop-Up Tape Refillable Deskgrip Disp...</td>\n",
       "      <td>Scotch</td>\n",
       "      <td>3.99</td>\n",
       "      <td>186</td>\n",
       "      <td>http://ecx.images-amazon.com/images/I/41O9sCwe...</td>\n",
       "      <td>Transparent Tape</td>\n",
       "    </tr>\n",
       "    <tr>\n",
       "      <th>B000MFHX3U</th>\n",
       "      <td>3M Whiteboard Eraser for Whiteboards, 2-Pack</td>\n",
       "      <td>3M</td>\n",
       "      <td>7.67</td>\n",
       "      <td>185</td>\n",
       "      <td>http://ecx.images-amazon.com/images/I/41%2Bjwd...</td>\n",
       "      <td>Dry Erase Boards</td>\n",
       "    </tr>\n",
       "  </tbody>\n",
       "</table>\n",
       "</div>"
      ],
      "text/plain": [
       "                                                        title         brand  \\\n",
       "asin                                                                          \n",
       "B0010T3QT2  Quality Park Reveal-N-Seal Envelope, #10, 4-1/...  Quality Park   \n",
       "B0039N7ELS  Scotch Adhesive Dot Roller, 0.31 x 49 Feet (6055)       Unknown   \n",
       "B0027CTFBO  Bankers Box SmoothMove Moving and Storage Boxe...      Fellowes   \n",
       "B0039N3QFQ  Scotch(R) Pop-Up Tape Refillable Deskgrip Disp...        Scotch   \n",
       "B000MFHX3U       3M Whiteboard Eraser for Whiteboards, 2-Pack            3M   \n",
       "\n",
       "            price  sales                                              imUrl  \\\n",
       "asin                                                                          \n",
       "B0010T3QT2   7.90    311  http://ecx.images-amazon.com/images/I/41f9G1jL...   \n",
       "B0039N7ELS   6.19    227  http://ecx.images-amazon.com/images/I/41n5MKtP...   \n",
       "B0027CTFBO  21.79    205  http://ecx.images-amazon.com/images/I/416ttilp...   \n",
       "B0039N3QFQ   3.99    186  http://ecx.images-amazon.com/images/I/41O9sCwe...   \n",
       "B000MFHX3U   7.67    185  http://ecx.images-amazon.com/images/I/41%2Bjwd...   \n",
       "\n",
       "                  categories  \n",
       "asin                          \n",
       "B0010T3QT2         Envelopes  \n",
       "B0039N7ELS     Mounting Tape  \n",
       "B0027CTFBO       Box Mailers  \n",
       "B0039N3QFQ  Transparent Tape  \n",
       "B000MFHX3U  Dry Erase Boards  "
      ]
     },
     "execution_count": 8,
     "metadata": {},
     "output_type": "execute_result"
    }
   ],
   "source": [
    "popularity = item_user\n",
    "# mark the category for each product for future uses.\n",
    "popularity = popularity.merge(Office, left_on=\"asin\", right_on=\"asin\").set_index(\"asin\").drop([\"user\",\"description\"],1)\n",
    "popularity = popularity[[5,1,4,0,3,2]]\n",
    "popularity = popularity.dropna(subset=[\"title\"])\n",
    "popularity.head()"
   ]
  },
  {
   "cell_type": "markdown",
   "metadata": {
    "deletable": true,
    "editable": true
   },
   "source": [
    "## 1.3 Define a funciton to get \"also bought\" items for a product"
   ]
  },
  {
   "cell_type": "code",
   "execution_count": 9,
   "metadata": {
    "collapsed": true,
    "deletable": true,
    "editable": true
   },
   "outputs": [],
   "source": [
    "def get_also_bought(item):\n",
    "    # get the column of this item in \"commonality_indexes\"\n",
    "    all_items = commonality_indexes[item]\n",
    "    # sum the value of whole column and to determine whether it is not 0.\n",
    "    sum(all_items) != 0\n",
    "    # if it is not, means that this item has its similar items with common customers.\n",
    "    while True:\n",
    "        # \n",
    "        similar_items = all_items[all_items != 0]\n",
    "        # cause the first similar item must be itself, so if similar items are more than 11,\n",
    "        if len(similar_items)>=11:\n",
    "            # sort these items by their values.\n",
    "            similar_items = similar_items.sort_values(ascending=False)[1:11]\n",
    "            # get those item from \"categries_items\".\n",
    "            recommenddations = popularity.ix[similar_items.index]\n",
    "            recommenddations[\"common_index\"] = similar_items.values\n",
    "            return recommenddations\n",
    "        #if less than 11,\n",
    "        else:\n",
    "            # get the category of this item from \"Office\".\n",
    "            item_category = Office[Office.asin == item].Categories.values[0]\n",
    "            # get the popular items that have a same category with this item.\n",
    "            # only to fill the number of missing, not a complete replacement.\n",
    "            popular = popularity[categries_items.Categories == item_category].head(10-len(similar_items))\n",
    "            # append those popular items to fill up recommendations to 10.\n",
    "            recommenddations = similar_items.append(popular)\n",
    "            recommenddations[\"common_index\"] = similar_items.values\n",
    "            return recommenddations"
   ]
  },
  {
   "cell_type": "markdown",
   "metadata": {
    "deletable": true,
    "editable": true
   },
   "source": [
    "# 2 CONTENT BASED RECOMMENDER\n",
    "## 2.1 Build item similarity matric based on item content"
   ]
  },
  {
   "cell_type": "code",
   "execution_count": 10,
   "metadata": {
    "collapsed": true,
    "deletable": true,
    "editable": true
   },
   "outputs": [],
   "source": [
    "reviews = pd.read_pickle(\"office_reviews.pickle\")\n",
    "product = pd.read_pickle(\"office_products.pickle\")\n",
    "# drop certain columns and extract categories for each product\n",
    "product = product.dropna(subset=[\"title\", \"description\"])\n",
    "product[\"categories\"] = [ (','.join(i[0])) for i in product.categories]"
   ]
  },
  {
   "cell_type": "code",
   "execution_count": 11,
   "metadata": {
    "collapsed": false,
    "deletable": true,
    "editable": true
   },
   "outputs": [],
   "source": [
    "import re\n",
    "import nltk\n",
    "from nltk.stem import PorterStemmer\n",
    "import string\n",
    "\n",
    "# for the text of description, exclude numbers, meaningless words like \"00asdf\"(number+text) or \"asdf00\"(text+number)\n",
    "summarylist=[]\n",
    "for sent in product.description:\n",
    "    punct_num_word= r='[^A-Za-z0-9 ]|[0-9]{1,10}[A-Za-z]{1,10}|[A-Za-z]{1,10}[0-9]{1,10}|[0-9]'\n",
    "    sent=re.sub(punct_num_word,'',sent)\n",
    "    sent=sent.split( )\n",
    "    newsent=[]\n",
    "    for word in sent:\n",
    "        word=PorterStemmer().stem(word)\n",
    "        newsent.append(word)\n",
    "    sent=' '.join(newsent)\n",
    "    summarylist.append(sent)\n",
    "product['description2'] = summarylist"
   ]
  },
  {
   "cell_type": "code",
   "execution_count": 12,
   "metadata": {
    "collapsed": true,
    "deletable": true,
    "editable": true
   },
   "outputs": [],
   "source": [
    "# do the same thing for product.title\n",
    "summarylist = []\n",
    "for sent in product.title:\n",
    "    punct_num_word = r='[^A-Za-z0-9 ]|[0-9]{1,10}[A-Za-z]{1,10}|[A-Za-z]{1,10}[0-9]{1,10}|[0-9]'\n",
    "    sent = re.sub(punct_num_word,'',sent)\n",
    "    sent = sent.split( )\n",
    "    newsent = []\n",
    "    for word in sent:\n",
    "        word=PorterStemmer().stem(word)\n",
    "        newsent.append(word)\n",
    "    sent=' '.join(newsent)\n",
    "    summarylist.append(sent)\n",
    "product['title2'] = summarylist"
   ]
  },
  {
   "cell_type": "code",
   "execution_count": 13,
   "metadata": {
    "collapsed": false,
    "deletable": true,
    "editable": true
   },
   "outputs": [],
   "source": [
    "from sklearn.feature_extraction.text import TfidfVectorizer\n",
    "from sklearn.feature_extraction.text import TfidfTransformer\n",
    "\n",
    "# create dtm for content\n",
    "tf = TfidfVectorizer(stop_words = 'english')\n",
    "dtm = tf.fit_transform(product.description2 + product.title2+ product.categories)"
   ]
  },
  {
   "cell_type": "code",
   "execution_count": 14,
   "metadata": {
    "collapsed": false,
    "deletable": true,
    "editable": true
   },
   "outputs": [
    {
     "data": {
      "text/plain": [
       "array([[ 1.        ,  0.16506951,  0.19255795, ...,  0.00196088,\n",
       "         0.01676924,  0.02679743],\n",
       "       [ 0.16506951,  1.        ,  0.30763651, ...,  0.00148237,\n",
       "         0.0015545 ,  0.00949996],\n",
       "       [ 0.19255795,  0.30763651,  1.        , ...,  0.01880499,\n",
       "         0.02610376,  0.01324837],\n",
       "       ..., \n",
       "       [ 0.00196088,  0.00148237,  0.01880499, ...,  1.        ,\n",
       "         0.90569139,  0.00763796],\n",
       "       [ 0.01676924,  0.0015545 ,  0.02610376, ...,  0.90569139,\n",
       "         1.        ,  0.01742184],\n",
       "       [ 0.02679743,  0.00949996,  0.01324837, ...,  0.00763796,\n",
       "         0.01742184,  1.        ]])"
      ]
     },
     "execution_count": 14,
     "metadata": {},
     "output_type": "execute_result"
    }
   ],
   "source": [
    "# count similarity of items\n",
    "from sklearn.metrics.pairwise import cosine_similarity\n",
    "sim = cosine_similarity(dtm)\n",
    "sim "
   ]
  },
  {
   "cell_type": "code",
   "execution_count": 15,
   "metadata": {
    "collapsed": false,
    "deletable": true,
    "editable": true
   },
   "outputs": [
    {
     "data": {
      "text/html": [
       "<div>\n",
       "<table border=\"1\" class=\"dataframe\">\n",
       "  <thead>\n",
       "    <tr style=\"text-align: right;\">\n",
       "      <th></th>\n",
       "      <th>B00000JBLU</th>\n",
       "      <th>B00000JBNX</th>\n",
       "      <th>B00000JBO8</th>\n",
       "      <th>B00000JBLH</th>\n",
       "      <th>B00000JFNV</th>\n",
       "    </tr>\n",
       "  </thead>\n",
       "  <tbody>\n",
       "    <tr>\n",
       "      <th>B00000JBLU</th>\n",
       "      <td>1.000000</td>\n",
       "      <td>0.165070</td>\n",
       "      <td>0.192558</td>\n",
       "      <td>0.080616</td>\n",
       "      <td>0.001946</td>\n",
       "    </tr>\n",
       "    <tr>\n",
       "      <th>B00000JBNX</th>\n",
       "      <td>0.165070</td>\n",
       "      <td>1.000000</td>\n",
       "      <td>0.307637</td>\n",
       "      <td>0.135672</td>\n",
       "      <td>0.019484</td>\n",
       "    </tr>\n",
       "    <tr>\n",
       "      <th>B00000JBO8</th>\n",
       "      <td>0.192558</td>\n",
       "      <td>0.307637</td>\n",
       "      <td>1.000000</td>\n",
       "      <td>0.123718</td>\n",
       "      <td>0.001698</td>\n",
       "    </tr>\n",
       "    <tr>\n",
       "      <th>B00000JBLH</th>\n",
       "      <td>0.080616</td>\n",
       "      <td>0.135672</td>\n",
       "      <td>0.123718</td>\n",
       "      <td>1.000000</td>\n",
       "      <td>0.013590</td>\n",
       "    </tr>\n",
       "    <tr>\n",
       "      <th>B00000JFNV</th>\n",
       "      <td>0.001946</td>\n",
       "      <td>0.019484</td>\n",
       "      <td>0.001698</td>\n",
       "      <td>0.013590</td>\n",
       "      <td>1.000000</td>\n",
       "    </tr>\n",
       "  </tbody>\n",
       "</table>\n",
       "</div>"
      ],
      "text/plain": [
       "            B00000JBLU  B00000JBNX  B00000JBO8  B00000JBLH  B00000JFNV\n",
       "B00000JBLU    1.000000    0.165070    0.192558    0.080616    0.001946\n",
       "B00000JBNX    0.165070    1.000000    0.307637    0.135672    0.019484\n",
       "B00000JBO8    0.192558    0.307637    1.000000    0.123718    0.001698\n",
       "B00000JBLH    0.080616    0.135672    0.123718    1.000000    0.013590\n",
       "B00000JFNV    0.001946    0.019484    0.001698    0.013590    1.000000"
      ]
     },
     "execution_count": 15,
     "metadata": {},
     "output_type": "execute_result"
    }
   ],
   "source": [
    "# transform metric to dataframe\n",
    "item_similarity = pd.DataFrame(data = sim, \n",
    "                               index = product.asin.values, \n",
    "                               columns = product.asin.values)\n",
    "item_similarity.iloc[0:5,0:5]"
   ]
  },
  {
   "cell_type": "markdown",
   "metadata": {
    "deletable": true,
    "editable": true
   },
   "source": [
    "## 2.2 Define function to do a recommendation"
   ]
  },
  {
   "cell_type": "code",
   "execution_count": 16,
   "metadata": {
    "collapsed": false,
    "deletable": true,
    "editable": true
   },
   "outputs": [],
   "source": [
    "def get_similar_item(asin, **kwargs):\n",
    "    userid = kwargs.get('userid', None)\n",
    "    if userid is not None:\n",
    "        # get rating information of this user\n",
    "        ratings = reviews[reviews.reviewerID == userid][[\"asin\", \"overall\"]]\n",
    "        # mean center the ratings\n",
    "        ratings.overall -= ratings.overall.mean()\n",
    "        # merge popular items with ratings\n",
    "        product_ID = product.set_index(\"asin\").join(ratings.set_index(\"asin\"))\n",
    "        # do the dot product with dtm\n",
    "        profile = dtm.T.dot(product_ID.overall.fillna(0))\n",
    "        # get prediction for this user\n",
    "        pred = dtm.dot(profile)\n",
    "        product_ID['pred'] = pred\n",
    "        all_items = item_similarity[asin].sort_values(ascending=False)\n",
    "        # extract items that has positive prediction from \"all_items\"\n",
    "        pos_pred=product_ID.ix[all_items.index]\n",
    "        pos_pred=pos_pred[pos_pred.pred>=0]\n",
    "        pos_items=all_items.ix[pos_pred.index]\n",
    "        # get the top 5 items that have the highest similarity for a certain item(\"asin\")\n",
    "        top_items=pos_items[pos_items.values < 1][0:5]\n",
    "        recommendations = product_ID.ix[top_items.index]\n",
    "        recommendations = recommendations[[\"title\",\"brand\",\"price\",\"description\",\"imUrl\",\"pred\"]]\n",
    "        recommendations[\"similarity\"] = top_items.values\n",
    "        # return these items according to the \"pred\" value\n",
    "        return recommendations.sort_values(\"similarity\", ascending=False)\n",
    "    else:\n",
    "        # for the user doesn't sign in, recommend top 5 items that have the highest similarity for him/her\n",
    "        all_items = item_similarity[asin].sort_values(ascending=False)\n",
    "        all_items = all_items[all_items.values < 1][0:5]\n",
    "        recommendations = popularity.ix[all_items.index]\n",
    "        recommendations[\"similarity\"] = all_items.values\n",
    "        return recommendations"
   ]
  },
  {
   "cell_type": "markdown",
   "metadata": {
    "deletable": true,
    "editable": true
   },
   "source": [
    "# 3 MODEL BASED RECOMMENDER"
   ]
  },
  {
   "cell_type": "code",
   "execution_count": 17,
   "metadata": {
    "collapsed": false,
    "deletable": true,
    "editable": true
   },
   "outputs": [
    {
     "data": {
      "text/html": [
       "<div>\n",
       "<table border=\"1\" class=\"dataframe\">\n",
       "  <thead>\n",
       "    <tr style=\"text-align: right;\">\n",
       "      <th></th>\n",
       "      <th>asin</th>\n",
       "      <th>overall</th>\n",
       "      <th>reviewerID</th>\n",
       "      <th>mean_rating</th>\n",
       "      <th>mcrating</th>\n",
       "    </tr>\n",
       "  </thead>\n",
       "  <tbody>\n",
       "  </tbody>\n",
       "</table>\n",
       "</div>"
      ],
      "text/plain": [
       "Empty DataFrame\n",
       "Columns: [asin, overall, reviewerID, mean_rating, mcrating]\n",
       "Index: []"
      ]
     },
     "execution_count": 17,
     "metadata": {},
     "output_type": "execute_result"
    }
   ],
   "source": [
    "#split data\n",
    "from sklearn.cross_validation import train_test_split\n",
    "train,test = train_test_split(Office_reviews,test_size=0.25,random_state = 1)\n",
    "\n",
    "#compute mean ratings for every users in train data and test data\n",
    "means = train.groupby(\"reviewerID\").overall.mean()#only use the information in train\n",
    "means.name = \"mean_rating\"\n",
    "train = pd.merge(train, pd.DataFrame(means), left_on=\"reviewerID\", right_index=True)\n",
    "train[\"mcrating\"] = train.overall - train.mean_rating\n",
    "test = pd.merge(test, pd.DataFrame(means), left_on=\"reviewerID\", right_index=True)\n",
    "test[\"mcrating\"] = test.overall - test.mean_rating\n",
    "test.mean_rating.fillna(train.overall.mean(), inplace=True)\n",
    "test[np.isnan(test.mcrating)] #check if there are missing values in test.mcrating"
   ]
  },
  {
   "cell_type": "code",
   "execution_count": 18,
   "metadata": {
    "collapsed": false,
    "deletable": true,
    "editable": true
   },
   "outputs": [],
   "source": [
    "#create user_item matrix by using train data\n",
    "user_item_rating_train = pd.pivot_table(train,index = [\"reviewerID\",\"asin\"],values=[\"mcrating\"],aggfunc=np.mean)\n",
    "user_item_rating_train = user_item_rating_train.unstack(\"asin\").stack(0)\n",
    "#create a varible which stores filled missing values\n",
    "user_item_rating_train_filled = user_item_rating_train.fillna(0)\n",
    "#create a varible which stores missing values\n",
    "user_item_rating_train_nan = user_item_rating_train"
   ]
  },
  {
   "cell_type": "code",
   "execution_count": 19,
   "metadata": {
    "collapsed": true,
    "deletable": true,
    "editable": true
   },
   "outputs": [],
   "source": [
    "#create user_item matrix by using test data\n",
    "user_item_rating_test = pd.pivot_table(test,index = [\"reviewerID\",\"asin\"],values=[\"mcrating\"],aggfunc=np.mean)\n",
    "user_item_rating_test = user_item_rating_test.unstack(\"asin\").stack(0)"
   ]
  },
  {
   "cell_type": "markdown",
   "metadata": {
    "deletable": true,
    "editable": true
   },
   "source": [
    "## 3.1 Run svds and compute RMSE"
   ]
  },
  {
   "cell_type": "code",
   "execution_count": 20,
   "metadata": {
    "collapsed": false,
    "deletable": true,
    "editable": true
   },
   "outputs": [
    {
     "name": "stdout",
     "output_type": "stream",
     "text": [
      "num of loop: 1\n",
      "0.926649363224\n",
      "---------------------\n"
     ]
    }
   ],
   "source": [
    "#convert dataframe to array\n",
    "from scipy.sparse.linalg import svds\n",
    "user_item_rating_train_filled = user_item_rating_train_filled.values\n",
    "user_item_rating_train_nan = user_item_rating_train_nan.values\n",
    "\n",
    "for i in range(1):\n",
    "\n",
    "    print (u'num of loop: ' + str(i+1))    \n",
    "    u, s, vt = svds(user_item_rating_train_filled, k = 20)\n",
    "    predication = np.dot(np.dot(u,np.diag(s)),vt).round(2)\n",
    "    #Backfilling mising values \n",
    "    user_item_rating_train_filled[np.isnan(user_item_rating_train_nan)] = predication[np.isnan(user_item_rating_train_nan)] \n",
    "    \n",
    "    #next,compute rmse\n",
    "    #create predication dataframe\n",
    "    pred_df = pd.DataFrame(data = predication,\n",
    "                           index=user_item_rating_train.index.get_level_values(\"reviewerID\"),\n",
    "                           columns=user_item_rating_train.columns.values)\n",
    "    #create predication_test dataframe \n",
    "    pred_test = pred_df.loc[user_item_rating_test.index.get_level_values(\"reviewerID\").values,\n",
    "                            user_item_rating_test.columns.values]\n",
    "    #compute rmse between predicted test data(pred_test) and test data(user_item_rating_test)\n",
    "    error = (pred_test - user_item_rating_test).values\n",
    "    error = error[~np.isnan(error)]\n",
    "    rmse = np.sqrt((error**2).mean())\n",
    "\n",
    "    print(rmse)\n",
    "    print (u'---------------------' )"
   ]
  },
  {
   "cell_type": "markdown",
   "metadata": {
    "collapsed": true,
    "deletable": true,
    "editable": true
   },
   "source": [
    "# 3.2 Define a funcation to get recommendations "
   ]
  },
  {
   "cell_type": "code",
   "execution_count": 21,
   "metadata": {
    "collapsed": true,
    "deletable": true,
    "editable": true
   },
   "outputs": [],
   "source": [
    "def user_recommend_item(userid):\n",
    "    items = pred_df.loc[userid]\n",
    "    #sort according to rating scores\n",
    "    if len(items[items>0])>=10:\n",
    "        items_10 = items.sort_values(ascending=False).head(10)\n",
    "        recommenddations = popularity.ix[items_10.index.values]\n",
    "        recommenddations[\"pred\"] = items_10.values\n",
    "        return recommenddations\n",
    "    if len(items[items>0])<10 and len(items[items>0])>0:\n",
    "        items_x = items[items>0].sort_values(ascending=False)\n",
    "        items_10_x = popularity.head(10-len(items[items>0]))\n",
    "        recommenddations = np.concatenate((items_x.index.values,items_10_x.index.values ))\n",
    "        recommenddations = popularity.ix[recommenddations]\n",
    "        return recommenddations\n",
    "    else:\n",
    "        recommenddations =  popularity.head(10)\n",
    "        return recommenddations"
   ]
  },
  {
   "cell_type": "markdown",
   "metadata": {
    "deletable": true,
    "editable": true
   },
   "source": [
    "# 4 Evaluation"
   ]
  },
  {
   "cell_type": "markdown",
   "metadata": {
    "deletable": true,
    "editable": true
   },
   "source": [
    "## 4.1 Qualitative evaluation"
   ]
  },
  {
   "cell_type": "markdown",
   "metadata": {
    "deletable": true,
    "editable": true
   },
   "source": [
    "Test all the functions that we built above with same user and product."
   ]
  },
  {
   "cell_type": "code",
   "execution_count": 22,
   "metadata": {
    "collapsed": false,
    "deletable": true,
    "editable": true
   },
   "outputs": [
    {
     "data": {
      "text/plain": [
       "('A27BM0VZSVKXZD', 'A1JZFGZEZVWQPY', 'B0007L1VO6', 'B000J0E9PI')"
      ]
     },
     "execution_count": 22,
     "metadata": {},
     "output_type": "execute_result"
    }
   ],
   "source": [
    "user1 = \"A27BM0VZSVKXZD\"\n",
    "user2 = \"A1JZFGZEZVWQPY\"\n",
    "item1 = item_user.asin[123]\n",
    "item2 = item_user.asin[345]\n",
    "user1,user2,item1,item2 "
   ]
  },
  {
   "cell_type": "code",
   "execution_count": 23,
   "metadata": {
    "collapsed": false,
    "deletable": true,
    "editable": true,
    "scrolled": true
   },
   "outputs": [
    {
     "data": {
      "text/html": [
       "<div>\n",
       "<table border=\"1\" class=\"dataframe\">\n",
       "  <thead>\n",
       "    <tr style=\"text-align: right;\">\n",
       "      <th></th>\n",
       "      <th>asin</th>\n",
       "      <th>title</th>\n",
       "      <th>brand</th>\n",
       "      <th>price</th>\n",
       "      <th>sales</th>\n",
       "      <th>imUrl</th>\n",
       "      <th>categories</th>\n",
       "    </tr>\n",
       "  </thead>\n",
       "  <tbody>\n",
       "    <tr>\n",
       "      <th>0</th>\n",
       "      <td>B0007L1VO6</td>\n",
       "      <td>BIC Mark-It Color Collection Permanent Markers...</td>\n",
       "      <td>BIC</td>\n",
       "      <td>7.16</td>\n",
       "      <td>75</td>\n",
       "      <td>http://ecx.images-amazon.com/images/I/61zc6AGL...</td>\n",
       "      <td>Permanent Markers</td>\n",
       "    </tr>\n",
       "  </tbody>\n",
       "</table>\n",
       "</div>"
      ],
      "text/plain": [
       "         asin                                              title brand  price  \\\n",
       "0  B0007L1VO6  BIC Mark-It Color Collection Permanent Markers...   BIC   7.16   \n",
       "\n",
       "   sales                                              imUrl         categories  \n",
       "0     75  http://ecx.images-amazon.com/images/I/61zc6AGL...  Permanent Markers  "
      ]
     },
     "execution_count": 23,
     "metadata": {},
     "output_type": "execute_result"
    }
   ],
   "source": [
    "popularity[popularity.index == item1].reset_index()"
   ]
  },
  {
   "cell_type": "code",
   "execution_count": 24,
   "metadata": {
    "collapsed": false,
    "deletable": true,
    "editable": true
   },
   "outputs": [
    {
     "data": {
      "text/html": [
       "<div>\n",
       "<table border=\"1\" class=\"dataframe\">\n",
       "  <thead>\n",
       "    <tr style=\"text-align: right;\">\n",
       "      <th></th>\n",
       "      <th>asin</th>\n",
       "      <th>title</th>\n",
       "      <th>brand</th>\n",
       "      <th>price</th>\n",
       "      <th>sales</th>\n",
       "      <th>imUrl</th>\n",
       "      <th>categories</th>\n",
       "    </tr>\n",
       "  </thead>\n",
       "  <tbody>\n",
       "    <tr>\n",
       "      <th>0</th>\n",
       "      <td>B000J0E9PI</td>\n",
       "      <td>Smead Recycled File Jackets, 2-Inch Expansion,...</td>\n",
       "      <td>Smead</td>\n",
       "      <td>29.38</td>\n",
       "      <td>45</td>\n",
       "      <td>http://ecx.images-amazon.com/images/I/31GMXm2L...</td>\n",
       "      <td>Top Tab Jackets &amp; Pockets</td>\n",
       "    </tr>\n",
       "  </tbody>\n",
       "</table>\n",
       "</div>"
      ],
      "text/plain": [
       "         asin                                              title  brand  \\\n",
       "0  B000J0E9PI  Smead Recycled File Jackets, 2-Inch Expansion,...  Smead   \n",
       "\n",
       "   price  sales                                              imUrl  \\\n",
       "0  29.38     45  http://ecx.images-amazon.com/images/I/31GMXm2L...   \n",
       "\n",
       "                  categories  \n",
       "0  Top Tab Jackets & Pockets  "
      ]
     },
     "execution_count": 24,
     "metadata": {},
     "output_type": "execute_result"
    }
   ],
   "source": [
    "popularity[popularity.index == item2].reset_index()"
   ]
  },
  {
   "cell_type": "markdown",
   "metadata": {
    "deletable": true,
    "editable": true
   },
   "source": [
    "### 4.1.1  item-to-item similarity recommender"
   ]
  },
  {
   "cell_type": "code",
   "execution_count": 25,
   "metadata": {
    "collapsed": false,
    "deletable": true,
    "editable": true
   },
   "outputs": [
    {
     "data": {
      "text/html": [
       "<div>\n",
       "<table border=\"1\" class=\"dataframe\">\n",
       "  <thead>\n",
       "    <tr style=\"text-align: right;\">\n",
       "      <th></th>\n",
       "      <th>title</th>\n",
       "      <th>brand</th>\n",
       "      <th>price</th>\n",
       "      <th>sales</th>\n",
       "      <th>imUrl</th>\n",
       "      <th>categories</th>\n",
       "      <th>common_index</th>\n",
       "    </tr>\n",
       "  </thead>\n",
       "  <tbody>\n",
       "    <tr>\n",
       "      <th>B00347A8PI</th>\n",
       "      <td>BIC Mark-It Color Collection Ultra Fine Perman...</td>\n",
       "      <td>BIC</td>\n",
       "      <td>20.49</td>\n",
       "      <td>63</td>\n",
       "      <td>http://ecx.images-amazon.com/images/I/51mYUlaz...</td>\n",
       "      <td>Permanent Markers</td>\n",
       "      <td>0.145479</td>\n",
       "    </tr>\n",
       "    <tr>\n",
       "      <th>B0046HESE2</th>\n",
       "      <td>Fellowes Titan 125 Laminator, 12.5 Inch with 1...</td>\n",
       "      <td>NaN</td>\n",
       "      <td>NaN</td>\n",
       "      <td>17</td>\n",
       "      <td>http://ecx.images-amazon.com/images/I/31dGn7ku...</td>\n",
       "      <td>Laminators</td>\n",
       "      <td>0.112022</td>\n",
       "    </tr>\n",
       "    <tr>\n",
       "      <th>B0006HX1HG</th>\n",
       "      <td>Duck Brand 393185 1.88 Inch by 22.2 Yard EZ St...</td>\n",
       "      <td>Shurtech Brands LLC</td>\n",
       "      <td>5.17</td>\n",
       "      <td>54</td>\n",
       "      <td>http://ecx.images-amazon.com/images/I/41hFF656...</td>\n",
       "      <td>Packing Tape</td>\n",
       "      <td>0.109994</td>\n",
       "    </tr>\n",
       "    <tr>\n",
       "      <th>B002M7Z338</th>\n",
       "      <td>Sharpie Pen Fine Point Pen, 6 Colored Pens (17...</td>\n",
       "      <td>Sharpie</td>\n",
       "      <td>8.82</td>\n",
       "      <td>10</td>\n",
       "      <td>http://ecx.images-amazon.com/images/I/51QLoJQ0...</td>\n",
       "      <td>Porous-Point Pens</td>\n",
       "      <td>0.109545</td>\n",
       "    </tr>\n",
       "    <tr>\n",
       "      <th>B000WU4H5C</th>\n",
       "      <td>3M Gel Wrist Rest for Keyboard with Leathette ...</td>\n",
       "      <td>3M</td>\n",
       "      <td>19.11</td>\n",
       "      <td>176</td>\n",
       "      <td>http://ecx.images-amazon.com/images/I/31wudwyG...</td>\n",
       "      <td>Wrist Rests</td>\n",
       "      <td>0.104447</td>\n",
       "    </tr>\n",
       "  </tbody>\n",
       "</table>\n",
       "</div>"
      ],
      "text/plain": [
       "                                                        title  \\\n",
       "B00347A8PI  BIC Mark-It Color Collection Ultra Fine Perman...   \n",
       "B0046HESE2  Fellowes Titan 125 Laminator, 12.5 Inch with 1...   \n",
       "B0006HX1HG  Duck Brand 393185 1.88 Inch by 22.2 Yard EZ St...   \n",
       "B002M7Z338  Sharpie Pen Fine Point Pen, 6 Colored Pens (17...   \n",
       "B000WU4H5C  3M Gel Wrist Rest for Keyboard with Leathette ...   \n",
       "\n",
       "                          brand  price  sales  \\\n",
       "B00347A8PI                  BIC  20.49     63   \n",
       "B0046HESE2                  NaN    NaN     17   \n",
       "B0006HX1HG  Shurtech Brands LLC   5.17     54   \n",
       "B002M7Z338              Sharpie   8.82     10   \n",
       "B000WU4H5C                   3M  19.11    176   \n",
       "\n",
       "                                                        imUrl  \\\n",
       "B00347A8PI  http://ecx.images-amazon.com/images/I/51mYUlaz...   \n",
       "B0046HESE2  http://ecx.images-amazon.com/images/I/31dGn7ku...   \n",
       "B0006HX1HG  http://ecx.images-amazon.com/images/I/41hFF656...   \n",
       "B002M7Z338  http://ecx.images-amazon.com/images/I/51QLoJQ0...   \n",
       "B000WU4H5C  http://ecx.images-amazon.com/images/I/31wudwyG...   \n",
       "\n",
       "                   categories  common_index  \n",
       "B00347A8PI  Permanent Markers      0.145479  \n",
       "B0046HESE2         Laminators      0.112022  \n",
       "B0006HX1HG       Packing Tape      0.109994  \n",
       "B002M7Z338  Porous-Point Pens      0.109545  \n",
       "B000WU4H5C        Wrist Rests      0.104447  "
      ]
     },
     "execution_count": 25,
     "metadata": {},
     "output_type": "execute_result"
    }
   ],
   "source": [
    "get_also_bought(item1).head()"
   ]
  },
  {
   "cell_type": "code",
   "execution_count": 26,
   "metadata": {
    "collapsed": false,
    "deletable": true,
    "editable": true
   },
   "outputs": [
    {
     "data": {
      "text/html": [
       "<div>\n",
       "<table border=\"1\" class=\"dataframe\">\n",
       "  <thead>\n",
       "    <tr style=\"text-align: right;\">\n",
       "      <th></th>\n",
       "      <th>title</th>\n",
       "      <th>brand</th>\n",
       "      <th>price</th>\n",
       "      <th>sales</th>\n",
       "      <th>imUrl</th>\n",
       "      <th>categories</th>\n",
       "      <th>common_index</th>\n",
       "    </tr>\n",
       "  </thead>\n",
       "  <tbody>\n",
       "    <tr>\n",
       "      <th>B0085IPYO6</th>\n",
       "      <td>Smead MO File Box, Letter Size, 3 inch Expansi...</td>\n",
       "      <td>Smead</td>\n",
       "      <td>8.90</td>\n",
       "      <td>90</td>\n",
       "      <td>http://ecx.images-amazon.com/images/I/41JwJIO7...</td>\n",
       "      <td>All-Purpose Labels</td>\n",
       "      <td>0.172848</td>\n",
       "    </tr>\n",
       "    <tr>\n",
       "      <th>B008DF54N2</th>\n",
       "      <td>Post-it Full Adhesive Roll, 1 x 400, Pink, 1-P...</td>\n",
       "      <td>Unknown</td>\n",
       "      <td>4.91</td>\n",
       "      <td>156</td>\n",
       "      <td>http://ecx.images-amazon.com/images/I/51PtlKvc...</td>\n",
       "      <td>Self-Stick Notes</td>\n",
       "      <td>0.119352</td>\n",
       "    </tr>\n",
       "    <tr>\n",
       "      <th>B0017GPTSY</th>\n",
       "      <td>Smead Folder, Letter, 11 Point, 1/3 Cut Tab, C...</td>\n",
       "      <td>Smead</td>\n",
       "      <td>14.84</td>\n",
       "      <td>41</td>\n",
       "      <td>http://ecx.images-amazon.com/images/I/41qD9pcf...</td>\n",
       "      <td>Manila</td>\n",
       "      <td>0.116405</td>\n",
       "    </tr>\n",
       "    <tr>\n",
       "      <th>B000SHR71A</th>\n",
       "      <td>Post-it Tabs, 2-Inches, Angled Lined, 4 Assort...</td>\n",
       "      <td>Post-It</td>\n",
       "      <td>4.94</td>\n",
       "      <td>49</td>\n",
       "      <td>http://ecx.images-amazon.com/images/I/51uVy0NO...</td>\n",
       "      <td>Index Tabs</td>\n",
       "      <td>0.106479</td>\n",
       "    </tr>\n",
       "    <tr>\n",
       "      <th>B00006IEAK</th>\n",
       "      <td>Pentel R.S.V.P. Ballpoint Pen, 0.7mm Fine Tip,...</td>\n",
       "      <td>Pentel</td>\n",
       "      <td>7.68</td>\n",
       "      <td>8</td>\n",
       "      <td>http://ecx.images-amazon.com/images/I/41oeWJYK...</td>\n",
       "      <td>Ballpoint Pens</td>\n",
       "      <td>0.105409</td>\n",
       "    </tr>\n",
       "  </tbody>\n",
       "</table>\n",
       "</div>"
      ],
      "text/plain": [
       "                                                        title    brand  price  \\\n",
       "B0085IPYO6  Smead MO File Box, Letter Size, 3 inch Expansi...    Smead   8.90   \n",
       "B008DF54N2  Post-it Full Adhesive Roll, 1 x 400, Pink, 1-P...  Unknown   4.91   \n",
       "B0017GPTSY  Smead Folder, Letter, 11 Point, 1/3 Cut Tab, C...    Smead  14.84   \n",
       "B000SHR71A  Post-it Tabs, 2-Inches, Angled Lined, 4 Assort...  Post-It   4.94   \n",
       "B00006IEAK  Pentel R.S.V.P. Ballpoint Pen, 0.7mm Fine Tip,...   Pentel   7.68   \n",
       "\n",
       "            sales                                              imUrl  \\\n",
       "B0085IPYO6     90  http://ecx.images-amazon.com/images/I/41JwJIO7...   \n",
       "B008DF54N2    156  http://ecx.images-amazon.com/images/I/51PtlKvc...   \n",
       "B0017GPTSY     41  http://ecx.images-amazon.com/images/I/41qD9pcf...   \n",
       "B000SHR71A     49  http://ecx.images-amazon.com/images/I/51uVy0NO...   \n",
       "B00006IEAK      8  http://ecx.images-amazon.com/images/I/41oeWJYK...   \n",
       "\n",
       "                    categories  common_index  \n",
       "B0085IPYO6  All-Purpose Labels      0.172848  \n",
       "B008DF54N2    Self-Stick Notes      0.119352  \n",
       "B0017GPTSY              Manila      0.116405  \n",
       "B000SHR71A          Index Tabs      0.106479  \n",
       "B00006IEAK      Ballpoint Pens      0.105409  "
      ]
     },
     "execution_count": 26,
     "metadata": {},
     "output_type": "execute_result"
    }
   ],
   "source": [
    "get_also_bought(item2).head()"
   ]
  },
  {
   "cell_type": "markdown",
   "metadata": {
    "deletable": true,
    "editable": true
   },
   "source": [
    "### 4.1.2 Content based recommender"
   ]
  },
  {
   "cell_type": "code",
   "execution_count": 27,
   "metadata": {
    "collapsed": false,
    "deletable": true,
    "editable": true
   },
   "outputs": [
    {
     "data": {
      "text/html": [
       "<div>\n",
       "<table border=\"1\" class=\"dataframe\">\n",
       "  <thead>\n",
       "    <tr style=\"text-align: right;\">\n",
       "      <th></th>\n",
       "      <th>title</th>\n",
       "      <th>brand</th>\n",
       "      <th>price</th>\n",
       "      <th>description</th>\n",
       "      <th>imUrl</th>\n",
       "      <th>pred</th>\n",
       "      <th>similarity</th>\n",
       "    </tr>\n",
       "  </thead>\n",
       "  <tbody>\n",
       "    <tr>\n",
       "      <th>B0003WN0CA</th>\n",
       "      <td>Sharpie 32893PP Ultra-Fine Point Permanent Mar...</td>\n",
       "      <td>Sharpie</td>\n",
       "      <td>19.98</td>\n",
       "      <td>Sharpie 32893PP Ultra-Fine Point Permanent Mar...</td>\n",
       "      <td>http://ecx.images-amazon.com/images/I/61pUYpZI...</td>\n",
       "      <td>0.014016</td>\n",
       "      <td>0.380864</td>\n",
       "    </tr>\n",
       "    <tr>\n",
       "      <th>B001E681S2</th>\n",
       "      <td>Pentel Permanent Marker, White, Fine Point, 1-...</td>\n",
       "      <td>Pentel</td>\n",
       "      <td>5.49</td>\n",
       "      <td>Quick-drying, permanent, white opaque marker w...</td>\n",
       "      <td>http://ecx.images-amazon.com/images/I/31j-LcWP...</td>\n",
       "      <td>0.018049</td>\n",
       "      <td>0.373153</td>\n",
       "    </tr>\n",
       "    <tr>\n",
       "      <th>B000I0YYZO</th>\n",
       "      <td>Sharpie Permanent Marker Fine Tip 8 Pack</td>\n",
       "      <td>Sharpie</td>\n",
       "      <td>2.45</td>\n",
       "      <td>Original Sharpie pen-style permanent marker ma...</td>\n",
       "      <td>http://ecx.images-amazon.com/images/I/51-UDFTD...</td>\n",
       "      <td>0.021759</td>\n",
       "      <td>0.346891</td>\n",
       "    </tr>\n",
       "    <tr>\n",
       "      <th>B001V9LQLG</th>\n",
       "      <td>Sharpie 1747388 Stainless Steel Fine Point Per...</td>\n",
       "      <td>Sharpie</td>\n",
       "      <td>5.25</td>\n",
       "      <td>Sharpie 1747388 Stainless Steel Fine Point Per...</td>\n",
       "      <td>http://ecx.images-amazon.com/images/I/21qDdPfl...</td>\n",
       "      <td>0.015425</td>\n",
       "      <td>0.339191</td>\n",
       "    </tr>\n",
       "    <tr>\n",
       "      <th>B000GOZYRO</th>\n",
       "      <td>Sharpie 75846 Fine Point Permanent Marker, Ass...</td>\n",
       "      <td>Sharpie</td>\n",
       "      <td>12.43</td>\n",
       "      <td>Sharpie 75846 Fine Point Permanent Marker, Ass...</td>\n",
       "      <td>http://ecx.images-amazon.com/images/I/51MP4u6p...</td>\n",
       "      <td>0.014191</td>\n",
       "      <td>0.307580</td>\n",
       "    </tr>\n",
       "  </tbody>\n",
       "</table>\n",
       "</div>"
      ],
      "text/plain": [
       "                                                        title    brand  price  \\\n",
       "B0003WN0CA  Sharpie 32893PP Ultra-Fine Point Permanent Mar...  Sharpie  19.98   \n",
       "B001E681S2  Pentel Permanent Marker, White, Fine Point, 1-...   Pentel   5.49   \n",
       "B000I0YYZO           Sharpie Permanent Marker Fine Tip 8 Pack  Sharpie   2.45   \n",
       "B001V9LQLG  Sharpie 1747388 Stainless Steel Fine Point Per...  Sharpie   5.25   \n",
       "B000GOZYRO  Sharpie 75846 Fine Point Permanent Marker, Ass...  Sharpie  12.43   \n",
       "\n",
       "                                                  description  \\\n",
       "B0003WN0CA  Sharpie 32893PP Ultra-Fine Point Permanent Mar...   \n",
       "B001E681S2  Quick-drying, permanent, white opaque marker w...   \n",
       "B000I0YYZO  Original Sharpie pen-style permanent marker ma...   \n",
       "B001V9LQLG  Sharpie 1747388 Stainless Steel Fine Point Per...   \n",
       "B000GOZYRO  Sharpie 75846 Fine Point Permanent Marker, Ass...   \n",
       "\n",
       "                                                        imUrl      pred  \\\n",
       "B0003WN0CA  http://ecx.images-amazon.com/images/I/61pUYpZI...  0.014016   \n",
       "B001E681S2  http://ecx.images-amazon.com/images/I/31j-LcWP...  0.018049   \n",
       "B000I0YYZO  http://ecx.images-amazon.com/images/I/51-UDFTD...  0.021759   \n",
       "B001V9LQLG  http://ecx.images-amazon.com/images/I/21qDdPfl...  0.015425   \n",
       "B000GOZYRO  http://ecx.images-amazon.com/images/I/51MP4u6p...  0.014191   \n",
       "\n",
       "            similarity  \n",
       "B0003WN0CA    0.380864  \n",
       "B001E681S2    0.373153  \n",
       "B000I0YYZO    0.346891  \n",
       "B001V9LQLG    0.339191  \n",
       "B000GOZYRO    0.307580  "
      ]
     },
     "execution_count": 27,
     "metadata": {},
     "output_type": "execute_result"
    }
   ],
   "source": [
    "get_similar_item(item1, userid=user1)"
   ]
  },
  {
   "cell_type": "code",
   "execution_count": 28,
   "metadata": {
    "collapsed": false,
    "deletable": true,
    "editable": true
   },
   "outputs": [
    {
     "data": {
      "text/html": [
       "<div>\n",
       "<table border=\"1\" class=\"dataframe\">\n",
       "  <thead>\n",
       "    <tr style=\"text-align: right;\">\n",
       "      <th></th>\n",
       "      <th>title</th>\n",
       "      <th>brand</th>\n",
       "      <th>price</th>\n",
       "      <th>description</th>\n",
       "      <th>imUrl</th>\n",
       "      <th>pred</th>\n",
       "      <th>similarity</th>\n",
       "    </tr>\n",
       "  </thead>\n",
       "  <tbody>\n",
       "    <tr>\n",
       "      <th>B003OCQOLA</th>\n",
       "      <td>Five Star 6-Pocket Expanding File, 13 x 9.38 I...</td>\n",
       "      <td>Five Star</td>\n",
       "      <td>7.19</td>\n",
       "      <td></td>\n",
       "      <td>http://ecx.images-amazon.com/images/I/41M9xwsc...</td>\n",
       "      <td>0.052160</td>\n",
       "      <td>0.628600</td>\n",
       "    </tr>\n",
       "    <tr>\n",
       "      <th>B003EM2G6M</th>\n",
       "      <td>Smead 70211 12-Pocket Tiered Stadium File, Let...</td>\n",
       "      <td>Smead</td>\n",
       "      <td>14.49</td>\n",
       "      <td>The 12-pocket Stadium&amp;#xAE; File is ideal for ...</td>\n",
       "      <td>http://ecx.images-amazon.com/images/I/51VLRflJ...</td>\n",
       "      <td>0.024225</td>\n",
       "      <td>0.489496</td>\n",
       "    </tr>\n",
       "    <tr>\n",
       "      <th>B0052S3ACK</th>\n",
       "      <td>Five Star 7-Pocket Customizable Expanding File...</td>\n",
       "      <td>Five Star</td>\n",
       "      <td>12.88</td>\n",
       "      <td>Keep your most important documents safe and se...</td>\n",
       "      <td>http://ecx.images-amazon.com/images/I/41yEa5Nm...</td>\n",
       "      <td>0.078202</td>\n",
       "      <td>0.466442</td>\n",
       "    </tr>\n",
       "    <tr>\n",
       "      <th>B0002LCUZK</th>\n",
       "      <td>Smead Frequency Expanding Files, Waterproof an...</td>\n",
       "      <td>Smead</td>\n",
       "      <td>8.50</td>\n",
       "      <td>Super durable poly. Waterproof and tear resist...</td>\n",
       "      <td>http://ecx.images-amazon.com/images/I/41Aegz4t...</td>\n",
       "      <td>0.077091</td>\n",
       "      <td>0.465719</td>\n",
       "    </tr>\n",
       "    <tr>\n",
       "      <th>B00006ICDC</th>\n",
       "      <td>Wilson Jones ColorLife Expanding File with Fla...</td>\n",
       "      <td>Wilson Jones</td>\n",
       "      <td>18.80</td>\n",
       "      <td>Filing, organizing and storing loose papers is...</td>\n",
       "      <td>http://ecx.images-amazon.com/images/I/517XAQs0...</td>\n",
       "      <td>0.058851</td>\n",
       "      <td>0.451076</td>\n",
       "    </tr>\n",
       "  </tbody>\n",
       "</table>\n",
       "</div>"
      ],
      "text/plain": [
       "                                                        title         brand  \\\n",
       "B003OCQOLA  Five Star 6-Pocket Expanding File, 13 x 9.38 I...     Five Star   \n",
       "B003EM2G6M  Smead 70211 12-Pocket Tiered Stadium File, Let...         Smead   \n",
       "B0052S3ACK  Five Star 7-Pocket Customizable Expanding File...     Five Star   \n",
       "B0002LCUZK  Smead Frequency Expanding Files, Waterproof an...         Smead   \n",
       "B00006ICDC  Wilson Jones ColorLife Expanding File with Fla...  Wilson Jones   \n",
       "\n",
       "            price                                        description  \\\n",
       "B003OCQOLA   7.19                                                      \n",
       "B003EM2G6M  14.49  The 12-pocket Stadium&#xAE; File is ideal for ...   \n",
       "B0052S3ACK  12.88  Keep your most important documents safe and se...   \n",
       "B0002LCUZK   8.50  Super durable poly. Waterproof and tear resist...   \n",
       "B00006ICDC  18.80  Filing, organizing and storing loose papers is...   \n",
       "\n",
       "                                                        imUrl      pred  \\\n",
       "B003OCQOLA  http://ecx.images-amazon.com/images/I/41M9xwsc...  0.052160   \n",
       "B003EM2G6M  http://ecx.images-amazon.com/images/I/51VLRflJ...  0.024225   \n",
       "B0052S3ACK  http://ecx.images-amazon.com/images/I/41yEa5Nm...  0.078202   \n",
       "B0002LCUZK  http://ecx.images-amazon.com/images/I/41Aegz4t...  0.077091   \n",
       "B00006ICDC  http://ecx.images-amazon.com/images/I/517XAQs0...  0.058851   \n",
       "\n",
       "            similarity  \n",
       "B003OCQOLA    0.628600  \n",
       "B003EM2G6M    0.489496  \n",
       "B0052S3ACK    0.466442  \n",
       "B0002LCUZK    0.465719  \n",
       "B00006ICDC    0.451076  "
      ]
     },
     "execution_count": 28,
     "metadata": {},
     "output_type": "execute_result"
    }
   ],
   "source": [
    "get_similar_item(item2, userid=user1)"
   ]
  },
  {
   "cell_type": "markdown",
   "metadata": {
    "deletable": true,
    "editable": true
   },
   "source": [
    "### 4.1.3 Model based recommender"
   ]
  },
  {
   "cell_type": "code",
   "execution_count": 29,
   "metadata": {
    "collapsed": false,
    "deletable": true,
    "editable": true,
    "scrolled": false
   },
   "outputs": [
    {
     "data": {
      "text/html": [
       "<div>\n",
       "<table border=\"1\" class=\"dataframe\">\n",
       "  <thead>\n",
       "    <tr style=\"text-align: right;\">\n",
       "      <th></th>\n",
       "      <th>title</th>\n",
       "      <th>brand</th>\n",
       "      <th>price</th>\n",
       "      <th>sales</th>\n",
       "      <th>imUrl</th>\n",
       "      <th>categories</th>\n",
       "      <th>pred</th>\n",
       "    </tr>\n",
       "    <tr>\n",
       "      <th>asin</th>\n",
       "      <th></th>\n",
       "      <th></th>\n",
       "      <th></th>\n",
       "      <th></th>\n",
       "      <th></th>\n",
       "      <th></th>\n",
       "      <th></th>\n",
       "    </tr>\n",
       "  </thead>\n",
       "  <tbody>\n",
       "    <tr>\n",
       "      <th>B0085IPZGS</th>\n",
       "      <td>Smead MO Records Filing Starter Kit, Letter Si...</td>\n",
       "      <td>Smead</td>\n",
       "      <td>11.45</td>\n",
       "      <td>90</td>\n",
       "      <td>http://ecx.images-amazon.com/images/I/41ltgWeE...</td>\n",
       "      <td>All-Purpose Labels</td>\n",
       "      <td>0.11</td>\n",
       "    </tr>\n",
       "    <tr>\n",
       "      <th>B005X9VZ70</th>\n",
       "      <td>DYMO LabelManager 160 Hand Held Label Maker</td>\n",
       "      <td>DYMO</td>\n",
       "      <td>15.55</td>\n",
       "      <td>92</td>\n",
       "      <td>http://ecx.images-amazon.com/images/I/41x99jCg...</td>\n",
       "      <td>Label Makers</td>\n",
       "      <td>0.09</td>\n",
       "    </tr>\n",
       "    <tr>\n",
       "      <th>B002ECFIDG</th>\n",
       "      <td>Avery Removable Label Pad, 1 x 3 Inches, Assor...</td>\n",
       "      <td>Avery</td>\n",
       "      <td>7.85</td>\n",
       "      <td>163</td>\n",
       "      <td>http://ecx.images-amazon.com/images/I/51vPBlsg...</td>\n",
       "      <td>Removable Labels</td>\n",
       "      <td>0.06</td>\n",
       "    </tr>\n",
       "    <tr>\n",
       "      <th>B00FWR9NH2</th>\n",
       "      <td>Wilson Jones Ultra Duty Round Ring View Binder...</td>\n",
       "      <td>Wilson Jones</td>\n",
       "      <td>7.29</td>\n",
       "      <td>107</td>\n",
       "      <td>http://ecx.images-amazon.com/images/I/41VvaJxF...</td>\n",
       "      <td>Round Ring Binders</td>\n",
       "      <td>0.04</td>\n",
       "    </tr>\n",
       "    <tr>\n",
       "      <th>B002PU9T5A</th>\n",
       "      <td>Pendaflex I.Organize Project Management System...</td>\n",
       "      <td>NaN</td>\n",
       "      <td>NaN</td>\n",
       "      <td>54</td>\n",
       "      <td>http://ecx.images-amazon.com/images/I/51A5ht2v...</td>\n",
       "      <td>Binding Covers &amp; Paper</td>\n",
       "      <td>0.04</td>\n",
       "    </tr>\n",
       "  </tbody>\n",
       "</table>\n",
       "</div>"
      ],
      "text/plain": [
       "                                                        title         brand  \\\n",
       "asin                                                                          \n",
       "B0085IPZGS  Smead MO Records Filing Starter Kit, Letter Si...         Smead   \n",
       "B005X9VZ70        DYMO LabelManager 160 Hand Held Label Maker          DYMO   \n",
       "B002ECFIDG  Avery Removable Label Pad, 1 x 3 Inches, Assor...         Avery   \n",
       "B00FWR9NH2  Wilson Jones Ultra Duty Round Ring View Binder...  Wilson Jones   \n",
       "B002PU9T5A  Pendaflex I.Organize Project Management System...           NaN   \n",
       "\n",
       "            price  sales                                              imUrl  \\\n",
       "asin                                                                          \n",
       "B0085IPZGS  11.45     90  http://ecx.images-amazon.com/images/I/41ltgWeE...   \n",
       "B005X9VZ70  15.55     92  http://ecx.images-amazon.com/images/I/41x99jCg...   \n",
       "B002ECFIDG   7.85    163  http://ecx.images-amazon.com/images/I/51vPBlsg...   \n",
       "B00FWR9NH2   7.29    107  http://ecx.images-amazon.com/images/I/41VvaJxF...   \n",
       "B002PU9T5A    NaN     54  http://ecx.images-amazon.com/images/I/51A5ht2v...   \n",
       "\n",
       "                        categories  pred  \n",
       "asin                                      \n",
       "B0085IPZGS      All-Purpose Labels  0.11  \n",
       "B005X9VZ70            Label Makers  0.09  \n",
       "B002ECFIDG        Removable Labels  0.06  \n",
       "B00FWR9NH2      Round Ring Binders  0.04  \n",
       "B002PU9T5A  Binding Covers & Paper  0.04  "
      ]
     },
     "execution_count": 29,
     "metadata": {},
     "output_type": "execute_result"
    }
   ],
   "source": [
    "user_recommend_item(user1).head()"
   ]
  },
  {
   "cell_type": "code",
   "execution_count": 30,
   "metadata": {
    "collapsed": false,
    "deletable": true,
    "editable": true
   },
   "outputs": [
    {
     "data": {
      "text/html": [
       "<div>\n",
       "<table border=\"1\" class=\"dataframe\">\n",
       "  <thead>\n",
       "    <tr style=\"text-align: right;\">\n",
       "      <th></th>\n",
       "      <th>title</th>\n",
       "      <th>brand</th>\n",
       "      <th>price</th>\n",
       "      <th>sales</th>\n",
       "      <th>imUrl</th>\n",
       "      <th>categories</th>\n",
       "      <th>pred</th>\n",
       "    </tr>\n",
       "    <tr>\n",
       "      <th>asin</th>\n",
       "      <th></th>\n",
       "      <th></th>\n",
       "      <th></th>\n",
       "      <th></th>\n",
       "      <th></th>\n",
       "      <th></th>\n",
       "      <th></th>\n",
       "    </tr>\n",
       "  </thead>\n",
       "  <tbody>\n",
       "    <tr>\n",
       "      <th>B0010T3QT2</th>\n",
       "      <td>Quality Park Reveal-N-Seal Envelope, #10, 4-1/...</td>\n",
       "      <td>Quality Park</td>\n",
       "      <td>7.90</td>\n",
       "      <td>311</td>\n",
       "      <td>http://ecx.images-amazon.com/images/I/41f9G1jL...</td>\n",
       "      <td>Envelopes</td>\n",
       "      <td>1.07</td>\n",
       "    </tr>\n",
       "    <tr>\n",
       "      <th>B002K9M6OW</th>\n",
       "      <td>Post-it Super Sticky Removable Color Coding La...</td>\n",
       "      <td>NaN</td>\n",
       "      <td>NaN</td>\n",
       "      <td>185</td>\n",
       "      <td>http://ecx.images-amazon.com/images/I/51n5vSVf...</td>\n",
       "      <td>Store Signs</td>\n",
       "      <td>0.19</td>\n",
       "    </tr>\n",
       "    <tr>\n",
       "      <th>B002K9XU0Q</th>\n",
       "      <td>Post-it&amp;reg; Super Sticky Removable File Folde...</td>\n",
       "      <td>NaN</td>\n",
       "      <td>NaN</td>\n",
       "      <td>175</td>\n",
       "      <td>http://ecx.images-amazon.com/images/I/51WyeTP1...</td>\n",
       "      <td>File Folder Labels</td>\n",
       "      <td>0.17</td>\n",
       "    </tr>\n",
       "    <tr>\n",
       "      <th>B002K9IHJK</th>\n",
       "      <td>Post-it&amp;reg; Super Sticky Removable Label Pads...</td>\n",
       "      <td>NaN</td>\n",
       "      <td>4.99</td>\n",
       "      <td>180</td>\n",
       "      <td>http://ecx.images-amazon.com/images/I/51sdIEWS...</td>\n",
       "      <td>Mouse Pads</td>\n",
       "      <td>0.16</td>\n",
       "    </tr>\n",
       "    <tr>\n",
       "      <th>B002K9GOPE</th>\n",
       "      <td>3M Permanent Adhesive Address Labels, 1 x 2.62...</td>\n",
       "      <td>3M</td>\n",
       "      <td>35.00</td>\n",
       "      <td>182</td>\n",
       "      <td>http://ecx.images-amazon.com/images/I/51cAE15g...</td>\n",
       "      <td>Address Labels</td>\n",
       "      <td>0.12</td>\n",
       "    </tr>\n",
       "  </tbody>\n",
       "</table>\n",
       "</div>"
      ],
      "text/plain": [
       "                                                        title         brand  \\\n",
       "asin                                                                          \n",
       "B0010T3QT2  Quality Park Reveal-N-Seal Envelope, #10, 4-1/...  Quality Park   \n",
       "B002K9M6OW  Post-it Super Sticky Removable Color Coding La...           NaN   \n",
       "B002K9XU0Q  Post-it&reg; Super Sticky Removable File Folde...           NaN   \n",
       "B002K9IHJK  Post-it&reg; Super Sticky Removable Label Pads...           NaN   \n",
       "B002K9GOPE  3M Permanent Adhesive Address Labels, 1 x 2.62...            3M   \n",
       "\n",
       "            price  sales                                              imUrl  \\\n",
       "asin                                                                          \n",
       "B0010T3QT2   7.90    311  http://ecx.images-amazon.com/images/I/41f9G1jL...   \n",
       "B002K9M6OW    NaN    185  http://ecx.images-amazon.com/images/I/51n5vSVf...   \n",
       "B002K9XU0Q    NaN    175  http://ecx.images-amazon.com/images/I/51WyeTP1...   \n",
       "B002K9IHJK   4.99    180  http://ecx.images-amazon.com/images/I/51sdIEWS...   \n",
       "B002K9GOPE  35.00    182  http://ecx.images-amazon.com/images/I/51cAE15g...   \n",
       "\n",
       "                    categories  pred  \n",
       "asin                                  \n",
       "B0010T3QT2           Envelopes  1.07  \n",
       "B002K9M6OW         Store Signs  0.19  \n",
       "B002K9XU0Q  File Folder Labels  0.17  \n",
       "B002K9IHJK          Mouse Pads  0.16  \n",
       "B002K9GOPE      Address Labels  0.12  "
      ]
     },
     "execution_count": 30,
     "metadata": {},
     "output_type": "execute_result"
    }
   ],
   "source": [
    "user_recommend_item(user2).head()"
   ]
  },
  {
   "cell_type": "markdown",
   "metadata": {
    "deletable": true,
    "editable": true
   },
   "source": [
    "## 4.2 Quantitative evaluation"
   ]
  },
  {
   "cell_type": "code",
   "execution_count": 31,
   "metadata": {
    "collapsed": false,
    "deletable": true,
    "editable": true
   },
   "outputs": [
    {
     "data": {
      "text/html": [
       "<div>\n",
       "<table border=\"1\" class=\"dataframe\">\n",
       "  <thead>\n",
       "    <tr style=\"text-align: right;\">\n",
       "      <th></th>\n",
       "      <th>asin</th>\n",
       "      <th>overall</th>\n",
       "      <th>reviewerID</th>\n",
       "      <th>mean_rating</th>\n",
       "      <th>mcrating</th>\n",
       "    </tr>\n",
       "  </thead>\n",
       "  <tbody>\n",
       "  </tbody>\n",
       "</table>\n",
       "</div>"
      ],
      "text/plain": [
       "Empty DataFrame\n",
       "Columns: [asin, overall, reviewerID, mean_rating, mcrating]\n",
       "Index: []"
      ]
     },
     "execution_count": 31,
     "metadata": {},
     "output_type": "execute_result"
    }
   ],
   "source": [
    "from sklearn.cross_validation import train_test_split\n",
    "train,test = train_test_split(Office_reviews,test_size=0.25,random_state = 1)\n",
    "\n",
    "means = train.groupby(\"reviewerID\").overall.mean()\n",
    "means.name = \"mean_rating\"\n",
    "train = pd.merge(train, pd.DataFrame(means), left_on=\"reviewerID\", right_index=True)\n",
    "train[\"mcrating\"] = train.overall - train.mean_rating \n",
    "# merge test data with means (training data's mean rating)\n",
    "test = pd.merge(test, pd.DataFrame(means), left_on=\"reviewerID\", right_index=True)\n",
    "test[\"mcrating\"] = test.overall - test.mean_rating \n",
    "test.mean_rating.fillna(train.overall.mean(), inplace=True)\n",
    "test[np.isnan(test.mcrating)] #check if there are missing values in test.mcrating"
   ]
  },
  {
   "cell_type": "markdown",
   "metadata": {
    "deletable": true,
    "editable": true
   },
   "source": [
    "### 4.2.1 item-to-item similarity recommender"
   ]
  },
  {
   "cell_type": "code",
   "execution_count": 32,
   "metadata": {
    "collapsed": false,
    "deletable": true,
    "editable": true
   },
   "outputs": [],
   "source": [
    "df_list1=[]\n",
    "for i in set(test.reviewerID):\n",
    "    user_ratings = test[test.reviewerID == i][[\"asin\",\"mcrating\"]]\n",
    "    # merge product data frame with user's ratings\n",
    "    item_user = Office.reset_index()[[\"asin\"]].set_index(\"asin\").join(user_ratings.set_index(\"asin\"))\n",
    "    # add reviewerID column\n",
    "    item_user['reviewerID'] = i\n",
    "    # get profile of user \"i\"\n",
    "    profile = C_index.T.dot(np.array(item_user.mcrating.fillna(0)))\n",
    "    pred = C_index.dot(profile)\n",
    "    # get predictions\n",
    "    item_user['pred'] = pred\n",
    "    item_user = item_user.drop(\"mcrating\",axis=1).dropna()\n",
    "    df_list1.append(item_user)\n",
    "    \n",
    "df_pred1 = pd.concat(df_list1)\n",
    "df_pred1 = df_pred1.reset_index()"
   ]
  },
  {
   "cell_type": "code",
   "execution_count": 33,
   "metadata": {
    "collapsed": false,
    "deletable": true,
    "editable": true
   },
   "outputs": [
    {
     "data": {
      "text/html": [
       "<div>\n",
       "<table border=\"1\" class=\"dataframe\">\n",
       "  <thead>\n",
       "    <tr style=\"text-align: right;\">\n",
       "      <th></th>\n",
       "      <th>asin</th>\n",
       "      <th>overall</th>\n",
       "      <th>reviewerID</th>\n",
       "      <th>mean_rating</th>\n",
       "      <th>mcrating</th>\n",
       "      <th>pred</th>\n",
       "      <th>pred_abs</th>\n",
       "    </tr>\n",
       "  </thead>\n",
       "  <tbody>\n",
       "    <tr>\n",
       "      <th>0</th>\n",
       "      <td>B000087KUA</td>\n",
       "      <td>5.0</td>\n",
       "      <td>A2NOW4U7W3F7RI</td>\n",
       "      <td>4.913043</td>\n",
       "      <td>0.086957</td>\n",
       "      <td>-0.300602</td>\n",
       "      <td>4.612441</td>\n",
       "    </tr>\n",
       "    <tr>\n",
       "      <th>1</th>\n",
       "      <td>B00006JNMH</td>\n",
       "      <td>5.0</td>\n",
       "      <td>A2NOW4U7W3F7RI</td>\n",
       "      <td>4.913043</td>\n",
       "      <td>0.086957</td>\n",
       "      <td>-0.499916</td>\n",
       "      <td>4.413127</td>\n",
       "    </tr>\n",
       "    <tr>\n",
       "      <th>2</th>\n",
       "      <td>B00006IFBG</td>\n",
       "      <td>5.0</td>\n",
       "      <td>A2NOW4U7W3F7RI</td>\n",
       "      <td>4.913043</td>\n",
       "      <td>0.086957</td>\n",
       "      <td>-0.640811</td>\n",
       "      <td>4.272232</td>\n",
       "    </tr>\n",
       "    <tr>\n",
       "      <th>3</th>\n",
       "      <td>B00004SUJT</td>\n",
       "      <td>4.0</td>\n",
       "      <td>A2NOW4U7W3F7RI</td>\n",
       "      <td>4.913043</td>\n",
       "      <td>-0.913043</td>\n",
       "      <td>-2.171027</td>\n",
       "      <td>2.742017</td>\n",
       "    </tr>\n",
       "    <tr>\n",
       "      <th>4</th>\n",
       "      <td>B00125Q75Y</td>\n",
       "      <td>5.0</td>\n",
       "      <td>A2NOW4U7W3F7RI</td>\n",
       "      <td>4.913043</td>\n",
       "      <td>0.086957</td>\n",
       "      <td>-0.168818</td>\n",
       "      <td>4.744226</td>\n",
       "    </tr>\n",
       "  </tbody>\n",
       "</table>\n",
       "</div>"
      ],
      "text/plain": [
       "         asin  overall      reviewerID  mean_rating  mcrating      pred  \\\n",
       "0  B000087KUA      5.0  A2NOW4U7W3F7RI     4.913043  0.086957 -0.300602   \n",
       "1  B00006JNMH      5.0  A2NOW4U7W3F7RI     4.913043  0.086957 -0.499916   \n",
       "2  B00006IFBG      5.0  A2NOW4U7W3F7RI     4.913043  0.086957 -0.640811   \n",
       "3  B00004SUJT      4.0  A2NOW4U7W3F7RI     4.913043 -0.913043 -2.171027   \n",
       "4  B00125Q75Y      5.0  A2NOW4U7W3F7RI     4.913043  0.086957 -0.168818   \n",
       "\n",
       "   pred_abs  \n",
       "0  4.612441  \n",
       "1  4.413127  \n",
       "2  4.272232  \n",
       "3  2.742017  \n",
       "4  4.744226  "
      ]
     },
     "execution_count": 33,
     "metadata": {},
     "output_type": "execute_result"
    }
   ],
   "source": [
    "test_1 = pd.merge(test, df_pred1, left_on=[\"reviewerID\",\"asin\"],right_on=[\"reviewerID\",\"asin\"])\n",
    "test_1['pred_abs'] = test_1.pred + test_1.mean_rating #overall_y is the mean rating\n",
    "test_1.head()"
   ]
  },
  {
   "cell_type": "code",
   "execution_count": 34,
   "metadata": {
    "collapsed": false,
    "deletable": true,
    "editable": true
   },
   "outputs": [
    {
     "data": {
      "text/plain": [
       "0.8905973477735801"
      ]
     },
     "execution_count": 34,
     "metadata": {},
     "output_type": "execute_result"
    }
   ],
   "source": [
    "import math\n",
    "math.sqrt(((test_1.pred_abs - test_1.overall)**2).mean())"
   ]
  },
  {
   "cell_type": "markdown",
   "metadata": {
    "collapsed": true,
    "deletable": true,
    "editable": true
   },
   "source": [
    "### 4.2.1 Content based recommender"
   ]
  },
  {
   "cell_type": "code",
   "execution_count": 35,
   "metadata": {
    "collapsed": false,
    "deletable": true,
    "editable": true
   },
   "outputs": [],
   "source": [
    "df_list2=[]\n",
    "for i in set(test.reviewerID):\n",
    "    user_ratings = test[test.reviewerID == i][[\"asin\",\"mcrating\"]]\n",
    "    product_user = Office.reset_index()[[\"asin\"]].set_index(\"asin\").join(user_ratings.set_index(\"asin\"))\n",
    "    product_user['reviewerID']=i\n",
    "    profile = dtm.T.dot(product_user.mcrating.fillna(0))\n",
    "    pred = dtm.dot(profile)\n",
    "    product_user[ 'pred' ] = pred\n",
    "    product_user = product_user.drop(\"mcrating\",axis=1).dropna()\n",
    "    df_list2.append(product_user)\n",
    "    \n",
    "df_pred2=pd.concat(df_list2)\n",
    "df_pred2=df_pred2.reset_index()"
   ]
  },
  {
   "cell_type": "code",
   "execution_count": 36,
   "metadata": {
    "collapsed": false,
    "deletable": true,
    "editable": true
   },
   "outputs": [
    {
     "data": {
      "text/html": [
       "<div>\n",
       "<table border=\"1\" class=\"dataframe\">\n",
       "  <thead>\n",
       "    <tr style=\"text-align: right;\">\n",
       "      <th></th>\n",
       "      <th>asin</th>\n",
       "      <th>overall</th>\n",
       "      <th>reviewerID</th>\n",
       "      <th>mean_rating</th>\n",
       "      <th>mcrating</th>\n",
       "      <th>pred</th>\n",
       "      <th>pred_abs</th>\n",
       "    </tr>\n",
       "  </thead>\n",
       "  <tbody>\n",
       "    <tr>\n",
       "      <th>0</th>\n",
       "      <td>B000087KUA</td>\n",
       "      <td>5.0</td>\n",
       "      <td>A2NOW4U7W3F7RI</td>\n",
       "      <td>4.913043</td>\n",
       "      <td>0.086957</td>\n",
       "      <td>0.091831</td>\n",
       "      <td>5.004874</td>\n",
       "    </tr>\n",
       "    <tr>\n",
       "      <th>1</th>\n",
       "      <td>B00006JNMH</td>\n",
       "      <td>5.0</td>\n",
       "      <td>A2NOW4U7W3F7RI</td>\n",
       "      <td>4.913043</td>\n",
       "      <td>0.086957</td>\n",
       "      <td>0.083583</td>\n",
       "      <td>4.996627</td>\n",
       "    </tr>\n",
       "    <tr>\n",
       "      <th>2</th>\n",
       "      <td>B00006IFBG</td>\n",
       "      <td>5.0</td>\n",
       "      <td>A2NOW4U7W3F7RI</td>\n",
       "      <td>4.913043</td>\n",
       "      <td>0.086957</td>\n",
       "      <td>0.087913</td>\n",
       "      <td>5.000957</td>\n",
       "    </tr>\n",
       "    <tr>\n",
       "      <th>3</th>\n",
       "      <td>B00004SUJT</td>\n",
       "      <td>4.0</td>\n",
       "      <td>A2NOW4U7W3F7RI</td>\n",
       "      <td>4.913043</td>\n",
       "      <td>-0.913043</td>\n",
       "      <td>-0.899872</td>\n",
       "      <td>4.013172</td>\n",
       "    </tr>\n",
       "    <tr>\n",
       "      <th>4</th>\n",
       "      <td>B00125Q75Y</td>\n",
       "      <td>5.0</td>\n",
       "      <td>A2NOW4U7W3F7RI</td>\n",
       "      <td>4.913043</td>\n",
       "      <td>0.086957</td>\n",
       "      <td>0.094053</td>\n",
       "      <td>5.007097</td>\n",
       "    </tr>\n",
       "  </tbody>\n",
       "</table>\n",
       "</div>"
      ],
      "text/plain": [
       "         asin  overall      reviewerID  mean_rating  mcrating      pred  \\\n",
       "0  B000087KUA      5.0  A2NOW4U7W3F7RI     4.913043  0.086957  0.091831   \n",
       "1  B00006JNMH      5.0  A2NOW4U7W3F7RI     4.913043  0.086957  0.083583   \n",
       "2  B00006IFBG      5.0  A2NOW4U7W3F7RI     4.913043  0.086957  0.087913   \n",
       "3  B00004SUJT      4.0  A2NOW4U7W3F7RI     4.913043 -0.913043 -0.899872   \n",
       "4  B00125Q75Y      5.0  A2NOW4U7W3F7RI     4.913043  0.086957  0.094053   \n",
       "\n",
       "   pred_abs  \n",
       "0  5.004874  \n",
       "1  4.996627  \n",
       "2  5.000957  \n",
       "3  4.013172  \n",
       "4  5.007097  "
      ]
     },
     "execution_count": 36,
     "metadata": {},
     "output_type": "execute_result"
    }
   ],
   "source": [
    "test_2 = pd.merge(test,df_pred2,left_on=[\"reviewerID\",\"asin\"],right_on=[\"reviewerID\",\"asin\"])\n",
    "test_2['pred_abs'] = test_2.pred + test_2.mean_rating\n",
    "test_2.head()"
   ]
  },
  {
   "cell_type": "code",
   "execution_count": 37,
   "metadata": {
    "collapsed": false,
    "deletable": true,
    "editable": true
   },
   "outputs": [
    {
     "data": {
      "text/plain": [
       "0.24615493236677025"
      ]
     },
     "execution_count": 37,
     "metadata": {},
     "output_type": "execute_result"
    }
   ],
   "source": [
    "math.sqrt(((test_2.pred_abs - test_2.overall)**2).mean())"
   ]
  },
  {
   "cell_type": "markdown",
   "metadata": {
    "deletable": true,
    "editable": true
   },
   "source": [
    "### 4.1.3 Model based recommender"
   ]
  },
  {
   "cell_type": "code",
   "execution_count": 38,
   "metadata": {
    "collapsed": false,
    "deletable": true,
    "editable": true
   },
   "outputs": [
    {
     "data": {
      "text/plain": [
       "0.9266493632239885"
      ]
     },
     "execution_count": 38,
     "metadata": {},
     "output_type": "execute_result"
    }
   ],
   "source": [
    "rmse"
   ]
  },
  {
   "cell_type": "markdown",
   "metadata": {
    "deletable": true,
    "editable": true
   },
   "source": [
    "As is shown in code[20], the rmse is 0.926"
   ]
  }
 ],
 "metadata": {
  "anaconda-cloud": {},
  "kernelspec": {
   "display_name": "Python 3",
   "language": "python",
   "name": "python3"
  },
  "language_info": {
   "codemirror_mode": {
    "name": "ipython",
    "version": 3
   },
   "file_extension": ".py",
   "mimetype": "text/x-python",
   "name": "python",
   "nbconvert_exporter": "python",
   "pygments_lexer": "ipython3",
   "version": "3.5.2"
  }
 },
 "nbformat": 4,
 "nbformat_minor": 1
}
